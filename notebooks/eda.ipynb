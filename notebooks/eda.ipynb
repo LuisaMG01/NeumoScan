{
 "cells": [
  {
   "cell_type": "code",
   "execution_count": 14,
   "metadata": {},
   "outputs": [],
   "source": [
    "import pandas as pd\n",
    "import os\n",
    "import shutil\n",
    "import random\n",
    "from PIL import Image\n",
    "from pathlib import Path"
   ]
  },
  {
   "cell_type": "code",
   "execution_count": 10,
   "metadata": {},
   "outputs": [],
   "source": [
    "original_normal_path = '../data/raw/NORMAL'\n",
    "original_pneumonia_path = '../data/raw/PNEUMONIA'\n",
    "new_path = \"../data/processed\"\n",
    "normal_path = os.path.join(new_path, \"NORMAL\")\n",
    "viral_path = os.path.join(new_path, \"PNEUMONIA\", \"VIRAL\")\n",
    "bacteria_path = os.path.join(new_path, \"PNEUMONIA\", \"BACTERIAL\")"
   ]
  },
  {
   "cell_type": "code",
   "execution_count": 5,
   "metadata": {},
   "outputs": [],
   "source": [
    "os.makedirs(normal_path, exist_ok=True)\n",
    "os.makedirs(viral_path, exist_ok=True)\n",
    "os.makedirs(bacteria_path, exist_ok=True)"
   ]
  },
  {
   "cell_type": "code",
   "execution_count": 8,
   "metadata": {},
   "outputs": [],
   "source": [
    "for root, dirs, files in os.walk(original_normal_path):\n",
    "    for filename in files:\n",
    "        if filename.endswith(('.jpeg', '.jpg', '.png')):\n",
    "            source_path = os.path.join(root, filename)\n",
    "            \n",
    "            dest_path = os.path.join(normal_path, f\"normal_{len(os.listdir(normal_path))}.jpeg\")\n",
    "            shutil.copy(source_path, dest_path)"
   ]
  },
  {
   "cell_type": "code",
   "execution_count": null,
   "metadata": {},
   "outputs": [],
   "source": [
    "for root, dirs, files in os.walk(original_pneumonia_path):\n",
    "    for filename in files:\n",
    "        if filename.endswith(('.jpeg', '.jpg', '.png')):\n",
    "            source_path = os.path.join(root, filename)\n",
    "            fname_lower = filename.lower()\n",
    "            if 'virus' in fname_lower or 'viral' in fname_lower:\n",
    "                dest_path = os.path.join(viral_path, f\"viral_{len(os.listdir(viral_path))}.jpeg\")\n",
    "                shutil.copy(source_path, dest_path)\n",
    "            elif 'bacteria' in fname_lower or 'bacterial' in fname_lower:\n",
    "                    dest_path = os.path.join(bacteria_path, f\"bacterial_{len(os.listdir(bacteria_path))}.jpeg\")\n",
    "                    shutil.copy(source_path, dest_path)\n"
   ]
  },
  {
   "cell_type": "code",
   "execution_count": 15,
   "metadata": {},
   "outputs": [
    {
     "name": "stdout",
     "output_type": "stream",
     "text": [
      "Processing class: NORMAL\n",
      "Processing class: PNEUMONIA/BACTERIAL\n",
      "Processing class: PNEUMONIA/VIRAL\n",
      "✅ Split and resize completed. Structure in 'splitted/'.\n"
     ]
    }
   ],
   "source": [
    "INPUT_PATH = \"../data/processed\"\n",
    "OUTPUT_PATH = \"../data/splitted\"\n",
    "IMG_SIZE = (224, 224)\n",
    "SPLIT_RATIOS = {'train': 0.7, 'val': 0.15, 'test': 0.15}\n",
    "\n",
    "CLASSES = {\n",
    "    \"NORMAL\": os.path.join(INPUT_PATH, \"NORMAL\"),\n",
    "    \"PNEUMONIA/BACTERIAL\": os.path.join(INPUT_PATH, \"PNEUMONIA\", \"BACTERIAL\"),\n",
    "    \"PNEUMONIA/VIRAL\": os.path.join(INPUT_PATH, \"PNEUMONIA\", \"VIRAL\")\n",
    "}\n",
    "\n",
    "def prepare_directories():\n",
    "    if os.path.exists(OUTPUT_PATH):\n",
    "        shutil.rmtree(OUTPUT_PATH)\n",
    "    for split in SPLIT_RATIOS:\n",
    "        for clase_rel in CLASSES:\n",
    "            dest_dir = os.path.join(OUTPUT_PATH, split, clase_rel)\n",
    "            os.makedirs(dest_dir, exist_ok=True)\n",
    "\n",
    "def process_and_save(src_path, dst_path):\n",
    "    try:\n",
    "        with Image.open(src_path) as img:\n",
    "            img = img.convert(\"RGB\")\n",
    "            img = img.resize(IMG_SIZE)\n",
    "            img.save(dst_path)\n",
    "    except Exception as e:\n",
    "        print(f\"Processing error: {src_path}: {e}\")\n",
    "\n",
    "def split_and_save(clase_rel, src_dir):\n",
    "    img_files = [f for f in os.listdir(src_dir) if f.lower().endswith(('.jpg', '.jpeg', '.png'))]\n",
    "    random.shuffle(img_files)\n",
    "\n",
    "    total = len(img_files)\n",
    "    n_train = int(SPLIT_RATIOS['train'] * total)\n",
    "    n_val = int(SPLIT_RATIOS['val'] * total)\n",
    "\n",
    "    split_data = {\n",
    "        'train': img_files[:n_train],\n",
    "        'val': img_files[n_train:n_train + n_val],\n",
    "        'test': img_files[n_train + n_val:]\n",
    "    }\n",
    "\n",
    "    for split, filenames in split_data.items():\n",
    "        for i, fname in enumerate(filenames):\n",
    "            src = os.path.join(src_dir, fname)\n",
    "            new_name = f\"{clase_rel.replace('/', '_')}_{i}.jpeg\"\n",
    "            dst = os.path.join(OUTPUT_PATH, split, clase_rel, new_name)\n",
    "            process_and_save(src, dst)\n",
    "\n",
    "def main():\n",
    "    prepare_directories()\n",
    "    for clase_rel, clase_path in CLASSES.items():\n",
    "        print(f\"Processing class: {clase_rel}\")\n",
    "        split_and_save(clase_rel, clase_path)\n",
    "    print(\"Split and resize completed. Structure in 'splitted/'.\")\n",
    "\n",
    "if __name__ == \"__main__\":\n",
    "    main()\n"
   ]
  }
 ],
 "metadata": {
  "kernelspec": {
   "display_name": "Python 3",
   "language": "python",
   "name": "python3"
  },
  "language_info": {
   "codemirror_mode": {
    "name": "ipython",
    "version": 3
   },
   "file_extension": ".py",
   "mimetype": "text/x-python",
   "name": "python",
   "nbconvert_exporter": "python",
   "pygments_lexer": "ipython3",
   "version": "3.12.10"
  }
 },
 "nbformat": 4,
 "nbformat_minor": 2
}
